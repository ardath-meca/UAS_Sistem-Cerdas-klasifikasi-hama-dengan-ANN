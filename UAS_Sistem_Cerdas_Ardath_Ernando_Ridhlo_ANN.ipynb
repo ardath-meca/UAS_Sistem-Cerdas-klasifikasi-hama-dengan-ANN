{
  "nbformat": 4,
  "nbformat_minor": 0,
  "metadata": {
    "colab": {
      "name": "UAS_Sistem Cerdas_Ardath_Ernando_Ridhlo.ipynb",
      "provenance": []
    },
    "kernelspec": {
      "name": "python3",
      "display_name": "Python 3"
    },
    "language_info": {
      "name": "python"
    }
  },
  "cells": [
    {
      "cell_type": "code",
      "execution_count": 127,
      "metadata": {
        "colab": {
          "base_uri": "https://localhost:8080/"
        },
        "id": "fGUQiQOTYMNt",
        "outputId": "6a761747-ef09-452c-f6c6-fc200a4524da"
      },
      "outputs": [
        {
          "output_type": "stream",
          "name": "stdout",
          "text": [
            "Drive already mounted at /content/drive; to attempt to forcibly remount, call drive.mount(\"/content/drive\", force_remount=True).\n"
          ]
        }
      ],
      "source": [
        "from google.colab import drive\n",
        "drive.mount('/content/drive')"
      ]
    },
    {
      "cell_type": "code",
      "source": [
        "cd /content/drive/MyDrive/Colab Notebooks"
      ],
      "metadata": {
        "colab": {
          "base_uri": "https://localhost:8080/"
        },
        "id": "PouqVHdOYetH",
        "outputId": "6323e03c-ca4e-4947-bfc0-bf70134bb1bc"
      },
      "execution_count": 128,
      "outputs": [
        {
          "output_type": "stream",
          "name": "stdout",
          "text": [
            "/content/drive/MyDrive/Colab Notebooks\n"
          ]
        }
      ]
    },
    {
      "cell_type": "code",
      "source": [
        "ls"
      ],
      "metadata": {
        "colab": {
          "base_uri": "https://localhost:8080/"
        },
        "id": "fXtnSuXUZ0Ol",
        "outputId": "27cce034-90d5-4bd6-c845-1fb0da5e7ee0"
      },
      "execution_count": 129,
      "outputs": [
        {
          "output_type": "stream",
          "name": "stdout",
          "text": [
            " \u001b[0m\u001b[01;34m3pest\u001b[0m/\n",
            " \u001b[01;34m3scene\u001b[0m/\n",
            " \u001b[01;34m5pest\u001b[0m/\n",
            "'ACO_Ant.Ardath Kristi_2101202064.ipynb'\n",
            "'Ant. Ardath Kristi_2101202064_ACO.ipynb'\n",
            "'Ant. Ardath Kristi_2101202064_GA.ipynb'\n",
            "'Ant.Ardath Kristi_2101202064_UAS_SLO.ipynb'\n",
            " AqlCrudTutorial.ipynb\n",
            " AqlGeospatialTutorial.ipynb\n",
            " AqlJoinTutorial.ipynb\n",
            " AqlPart2Tutorial.ipynb\n",
            " AqlTraversalTutorial.ipynb\n",
            " \u001b[01;34mArangoDBUniversity\u001b[0m/\n",
            " ArangoSearch.ipynb\n",
            " best_weight_pqrst_arrhytmia_24samples.h5\n",
            " best_weight_scene_mobileNet.h5\n",
            "'BFS DFS UCS Algorithms.ipynb'\n",
            " chn31.txt\n",
            "'Copy of Tugas_Indiv_02_SLO.ipynb'\n",
            "'Copy of Untitled0.ipynb'\n",
            "'Covid_Indonesia (1).csv'\n",
            " Covid_Indonesia.csv\n",
            " creds.dat\n",
            " \u001b[01;34mdata\u001b[0m/\n",
            " data_cancer.csv\n",
            " dataMahasiswa.csv\n",
            "'DFS BFS UCS Algorithm with map.ipynb'\n",
            "'DFS BFS UCS Rute Kota Tempat Tinggal.ipynb'\n",
            " \u001b[01;34mexample_output\u001b[0m/\n",
            " FA_Data_Cancer.ipynb\n",
            " FuzzySearch.ipynb\n",
            " get-pip.py\n",
            " get-pip.py.1\n",
            " \u001b[01;34mimg\u001b[0m/\n",
            " koordinat.txt\n",
            " LDA_Data_Cancer.ipynb\n",
            " multiclass_classification_colab_Ardath_2101202064.ipynb\n",
            " oasis.py\n",
            " PCA_Data_Cancer.ipynb\n",
            " \u001b[01;34m__pycache__\u001b[0m/\n",
            " README.md\n",
            "'Salinan dari multiclass_classification_colab_Ardath_2101202064.ipynb'\n",
            " samplekota.txt\n",
            " sample.txt\n",
            " search.py\n",
            " test_gambar_aphid.jpg\n",
            " test_gambar_belalang.jpg\n",
            " test_gambar_coast.jpeg\n",
            "'test_gambar_lalat buah.jpg'\n",
            " test_gambar_mites.jpg\n",
            " test_gambar_ulet.jpg\n",
            " \u001b[01;34mtools\u001b[0m/\n",
            " Tugas_6_Sistem_Cerdas.ipynb\n",
            " Tugas_Besar_Sistem_Cerdas_Ernando_Ridhlo_Ardath.ipynb\n",
            " Tugas_Indiv_02_SLO.ipynb\n",
            "'Tugas_Sistem_Cerdasa_Fuzzy_Ant. Ardath Kristi_2101202064.ipynb'\n",
            "'UAS_Sistem Cerdas_Ardath_Ernando_Ridhlo.ipynb'\n",
            " Untitled0.ipynb\n",
            " Upsert.ipynb\n",
            "'UTS_SLO_Ant.Ardath Kristi_2101202064.ipynb'\n"
          ]
        }
      ]
    },
    {
      "cell_type": "code",
      "source": [
        "import tensorflow as tf\n",
        "from tensorflow import keras"
      ],
      "metadata": {
        "id": "oPBhxxIDbC0x"
      },
      "execution_count": 130,
      "outputs": []
    },
    {
      "cell_type": "code",
      "source": [
        "keras.optimizers.Adam"
      ],
      "metadata": {
        "colab": {
          "base_uri": "https://localhost:8080/"
        },
        "id": "ur1lkJO8bEBJ",
        "outputId": "dfffb852-ee39-4a88-c417-c71c9f95de13"
      },
      "execution_count": 131,
      "outputs": [
        {
          "output_type": "execute_result",
          "data": {
            "text/plain": [
              "keras.optimizer_v2.adam.Adam"
            ]
          },
          "metadata": {},
          "execution_count": 131
        }
      ]
    },
    {
      "cell_type": "code",
      "source": [
        "# import the necessary packages\n",
        "from keras.models import Sequential\n",
        "from keras.layers.core import Activation\n",
        "from keras.layers.core import Flatten\n",
        "from keras.layers.core import Dense\n",
        "from keras.optimizers import adam_v2\n",
        "from sklearn.preprocessing import LabelBinarizer\n",
        "from sklearn.model_selection import train_test_split\n",
        "from sklearn.metrics import classification_report\n",
        "from PIL import Image\n",
        "from imutils import paths\n",
        "import numpy as np\n",
        "import os"
      ],
      "metadata": {
        "id": "cDx1bU2uZ37u"
      },
      "execution_count": 132,
      "outputs": []
    },
    {
      "cell_type": "code",
      "source": [
        "# grab all image paths in the input dataset directory, then initialize\n",
        "# our list of images and corresponding class labels\n",
        "print(\"[INFO] loading images...\")\n",
        "imagePaths = paths.list_images(\"3pest\")\n",
        "data = []\n",
        "labels = []"
      ],
      "metadata": {
        "colab": {
          "base_uri": "https://localhost:8080/"
        },
        "id": "TBe3x2MQaHrc",
        "outputId": "0812390c-c07a-4a66-8fa3-74c828dfc36f"
      },
      "execution_count": 133,
      "outputs": [
        {
          "output_type": "stream",
          "name": "stdout",
          "text": [
            "[INFO] loading images...\n"
          ]
        }
      ]
    },
    {
      "cell_type": "code",
      "source": [
        "# loop over our input images\n",
        "for imagePath in imagePaths:\n",
        "\t# load the input image from disk, resize it to 64x64 pixels, scale\n",
        "\t# the pixel intensities to the range [0, 1], and then update our\n",
        "\t# images list\n",
        "\timage = Image.open(imagePath)\n",
        " #bisa pasang preprocessing disini jika mau, seperti filterring, dll\n",
        "\timage = np.array(image.resize((128, 128))) / 255.0 #normalisasi\n",
        "\tdata.append(image)\n",
        "\n",
        "\t# extract the class label from the file path and update the\n",
        "\t# labels list\n",
        "\tlabel = imagePath.split(os.path.sep)[-2]\n",
        "\tlabels.append(label)"
      ],
      "metadata": {
        "id": "hJ4ZswZJaOnP"
      },
      "execution_count": 134,
      "outputs": []
    },
    {
      "cell_type": "code",
      "source": [
        "print(labels)"
      ],
      "metadata": {
        "colab": {
          "base_uri": "https://localhost:8080/"
        },
        "id": "RAtbh9SUamXw",
        "outputId": "11a87c62-a30b-4472-f9ee-6f016ff1cec5"
      },
      "execution_count": 135,
      "outputs": [
        {
          "output_type": "stream",
          "name": "stdout",
          "text": [
            "['mites', 'mites', 'mites', 'mites', 'mites', 'mites', 'mites', 'mites', 'mites', 'mites', 'mites', 'mites', 'mites', 'mites', 'mites', 'mites', 'mites', 'mites', 'mites', 'mites', 'mites', 'mites', 'mites', 'mites', 'mites', 'mites', 'mites', 'mites', 'mites', 'mites', 'mites', 'mites', 'mites', 'mites', 'mites', 'mites', 'mites', 'mites', 'mites', 'mites', 'mites', 'mites', 'mites', 'mites', 'mites', 'mites', 'mites', 'mites', 'mites', 'mites', 'armyworm', 'armyworm', 'armyworm', 'armyworm', 'armyworm', 'armyworm', 'armyworm', 'armyworm', 'armyworm', 'armyworm', 'armyworm', 'armyworm', 'armyworm', 'armyworm', 'armyworm', 'armyworm', 'armyworm', 'armyworm', 'armyworm', 'armyworm', 'armyworm', 'armyworm', 'armyworm', 'armyworm', 'armyworm', 'armyworm', 'armyworm', 'armyworm', 'armyworm', 'armyworm', 'armyworm', 'armyworm', 'armyworm', 'armyworm', 'armyworm', 'armyworm', 'armyworm', 'armyworm', 'armyworm', 'armyworm', 'armyworm', 'armyworm', 'armyworm', 'armyworm', 'armyworm', 'armyworm', 'armyworm', 'armyworm', 'armyworm', 'armyworm', 'aphids', 'aphids', 'aphids', 'aphids', 'aphids', 'aphids', 'aphids', 'aphids', 'aphids', 'aphids', 'aphids', 'aphids', 'aphids', 'aphids', 'aphids', 'aphids', 'aphids', 'aphids', 'aphids', 'aphids', 'aphids', 'aphids', 'aphids', 'aphids', 'aphids', 'aphids', 'aphids', 'aphids', 'aphids', 'aphids', 'aphids', 'aphids', 'aphids', 'aphids', 'aphids', 'aphids', 'aphids', 'aphids', 'aphids', 'aphids', 'aphids', 'aphids', 'aphids', 'aphids', 'aphids', 'aphids', 'aphids', 'aphids', 'aphids', 'aphids']\n"
          ]
        }
      ]
    },
    {
      "cell_type": "code",
      "source": [
        "# encode the labels, converting them from strings to integers\n",
        "lb = LabelBinarizer()\n",
        "labels = lb.fit_transform(labels)"
      ],
      "metadata": {
        "id": "oFeZTypRan5N"
      },
      "execution_count": 136,
      "outputs": []
    },
    {
      "cell_type": "code",
      "source": [
        "print(labels)"
      ],
      "metadata": {
        "colab": {
          "base_uri": "https://localhost:8080/"
        },
        "id": "cicTuHofarow",
        "outputId": "e29925c6-b661-41e3-919f-2295431c7773"
      },
      "execution_count": 137,
      "outputs": [
        {
          "output_type": "stream",
          "name": "stdout",
          "text": [
            "[[0 0 1]\n",
            " [0 0 1]\n",
            " [0 0 1]\n",
            " [0 0 1]\n",
            " [0 0 1]\n",
            " [0 0 1]\n",
            " [0 0 1]\n",
            " [0 0 1]\n",
            " [0 0 1]\n",
            " [0 0 1]\n",
            " [0 0 1]\n",
            " [0 0 1]\n",
            " [0 0 1]\n",
            " [0 0 1]\n",
            " [0 0 1]\n",
            " [0 0 1]\n",
            " [0 0 1]\n",
            " [0 0 1]\n",
            " [0 0 1]\n",
            " [0 0 1]\n",
            " [0 0 1]\n",
            " [0 0 1]\n",
            " [0 0 1]\n",
            " [0 0 1]\n",
            " [0 0 1]\n",
            " [0 0 1]\n",
            " [0 0 1]\n",
            " [0 0 1]\n",
            " [0 0 1]\n",
            " [0 0 1]\n",
            " [0 0 1]\n",
            " [0 0 1]\n",
            " [0 0 1]\n",
            " [0 0 1]\n",
            " [0 0 1]\n",
            " [0 0 1]\n",
            " [0 0 1]\n",
            " [0 0 1]\n",
            " [0 0 1]\n",
            " [0 0 1]\n",
            " [0 0 1]\n",
            " [0 0 1]\n",
            " [0 0 1]\n",
            " [0 0 1]\n",
            " [0 0 1]\n",
            " [0 0 1]\n",
            " [0 0 1]\n",
            " [0 0 1]\n",
            " [0 0 1]\n",
            " [0 0 1]\n",
            " [0 1 0]\n",
            " [0 1 0]\n",
            " [0 1 0]\n",
            " [0 1 0]\n",
            " [0 1 0]\n",
            " [0 1 0]\n",
            " [0 1 0]\n",
            " [0 1 0]\n",
            " [0 1 0]\n",
            " [0 1 0]\n",
            " [0 1 0]\n",
            " [0 1 0]\n",
            " [0 1 0]\n",
            " [0 1 0]\n",
            " [0 1 0]\n",
            " [0 1 0]\n",
            " [0 1 0]\n",
            " [0 1 0]\n",
            " [0 1 0]\n",
            " [0 1 0]\n",
            " [0 1 0]\n",
            " [0 1 0]\n",
            " [0 1 0]\n",
            " [0 1 0]\n",
            " [0 1 0]\n",
            " [0 1 0]\n",
            " [0 1 0]\n",
            " [0 1 0]\n",
            " [0 1 0]\n",
            " [0 1 0]\n",
            " [0 1 0]\n",
            " [0 1 0]\n",
            " [0 1 0]\n",
            " [0 1 0]\n",
            " [0 1 0]\n",
            " [0 1 0]\n",
            " [0 1 0]\n",
            " [0 1 0]\n",
            " [0 1 0]\n",
            " [0 1 0]\n",
            " [0 1 0]\n",
            " [0 1 0]\n",
            " [0 1 0]\n",
            " [0 1 0]\n",
            " [0 1 0]\n",
            " [0 1 0]\n",
            " [0 1 0]\n",
            " [0 1 0]\n",
            " [0 1 0]\n",
            " [0 1 0]\n",
            " [1 0 0]\n",
            " [1 0 0]\n",
            " [1 0 0]\n",
            " [1 0 0]\n",
            " [1 0 0]\n",
            " [1 0 0]\n",
            " [1 0 0]\n",
            " [1 0 0]\n",
            " [1 0 0]\n",
            " [1 0 0]\n",
            " [1 0 0]\n",
            " [1 0 0]\n",
            " [1 0 0]\n",
            " [1 0 0]\n",
            " [1 0 0]\n",
            " [1 0 0]\n",
            " [1 0 0]\n",
            " [1 0 0]\n",
            " [1 0 0]\n",
            " [1 0 0]\n",
            " [1 0 0]\n",
            " [1 0 0]\n",
            " [1 0 0]\n",
            " [1 0 0]\n",
            " [1 0 0]\n",
            " [1 0 0]\n",
            " [1 0 0]\n",
            " [1 0 0]\n",
            " [1 0 0]\n",
            " [1 0 0]\n",
            " [1 0 0]\n",
            " [1 0 0]\n",
            " [1 0 0]\n",
            " [1 0 0]\n",
            " [1 0 0]\n",
            " [1 0 0]\n",
            " [1 0 0]\n",
            " [1 0 0]\n",
            " [1 0 0]\n",
            " [1 0 0]\n",
            " [1 0 0]\n",
            " [1 0 0]\n",
            " [1 0 0]\n",
            " [1 0 0]\n",
            " [1 0 0]\n",
            " [1 0 0]\n",
            " [1 0 0]\n",
            " [1 0 0]\n",
            " [1 0 0]\n",
            " [1 0 0]]\n"
          ]
        }
      ]
    },
    {
      "cell_type": "code",
      "source": [
        "print(np.array(data).shape)"
      ],
      "metadata": {
        "colab": {
          "base_uri": "https://localhost:8080/"
        },
        "id": "oAAPWA4vaufA",
        "outputId": "749a9dba-bce1-43f9-a053-70b2c0675bf8"
      },
      "execution_count": 138,
      "outputs": [
        {
          "output_type": "stream",
          "name": "stdout",
          "text": [
            "(150, 128, 128, 3)\n"
          ]
        }
      ]
    },
    {
      "cell_type": "code",
      "source": [
        "# perform a training and testing split, using 75% of the data for\n",
        "# training and 25% for evaluation\n",
        "(trainX, testX, trainY, testY) = train_test_split(np.array(data),\tnp.array(labels), test_size=0.25)\n",
        "print(trainX.shape)\n",
        "print(testX.shape)\n",
        "print(trainY.shape)\n",
        "print(testY.shape)"
      ],
      "metadata": {
        "colab": {
          "base_uri": "https://localhost:8080/"
        },
        "id": "Q02ZBkZmaxsk",
        "outputId": "10c925f4-e58a-486a-b006-cad4d7945640"
      },
      "execution_count": 139,
      "outputs": [
        {
          "output_type": "stream",
          "name": "stdout",
          "text": [
            "(112, 128, 128, 3)\n",
            "(38, 128, 128, 3)\n",
            "(112, 3)\n",
            "(38, 3)\n"
          ]
        }
      ]
    },
    {
      "cell_type": "code",
      "source": [
        "from keras.models import Sequential\n",
        "from keras.layers.core import Flatten\n",
        "from keras.layers.core import Dense, Dropout\n",
        "\n",
        "model = keras.Sequential(\n",
        "    [\n",
        "        Flatten(input_shape=(128,128,3,)),\n",
        "        Dense(512, activation=\"relu\"),\n",
        "        Dense(512, activation=\"relu\"),\n",
        "        Dropout(0.3),\n",
        "        Dense(128, activation=\"relu\"),\n",
        "        Dense(128, activation=\"relu\"),\n",
        "        Dropout(0.3),\n",
        "        Dense(32, activation=\"relu\"),\n",
        "        Dense(3, activation = \"softmax\"),\n",
        "    ]\n",
        ")"
      ],
      "metadata": {
        "id": "BHJe3kyEa1Ld"
      },
      "execution_count": 152,
      "outputs": []
    },
    {
      "cell_type": "code",
      "source": [
        "model.layers"
      ],
      "metadata": {
        "colab": {
          "base_uri": "https://localhost:8080/"
        },
        "id": "m2wP2rNAbPXO",
        "outputId": "b6cd94c8-edab-4b25-cf36-f74619921e26"
      },
      "execution_count": 153,
      "outputs": [
        {
          "output_type": "execute_result",
          "data": {
            "text/plain": [
              "[<keras.layers.core.flatten.Flatten at 0x7f789b2dfb90>,\n",
              " <keras.layers.core.dense.Dense at 0x7f789b2df510>,\n",
              " <keras.layers.core.dense.Dense at 0x7f789b20ccd0>,\n",
              " <keras.layers.core.dropout.Dropout at 0x7f789b2cd3d0>,\n",
              " <keras.layers.core.dense.Dense at 0x7f789b2cdad0>,\n",
              " <keras.layers.core.dense.Dense at 0x7f789b2cd4d0>,\n",
              " <keras.layers.core.dropout.Dropout at 0x7f789b2cd610>,\n",
              " <keras.layers.core.dense.Dense at 0x7f789bdbfcd0>,\n",
              " <keras.layers.core.dense.Dense at 0x7f789b1fdbd0>]"
            ]
          },
          "metadata": {},
          "execution_count": 153
        }
      ]
    },
    {
      "cell_type": "code",
      "source": [
        "model.summary()"
      ],
      "metadata": {
        "colab": {
          "base_uri": "https://localhost:8080/"
        },
        "id": "1Rld07odbQfK",
        "outputId": "c1cc10ea-96f4-4768-e677-9057c560a1c9"
      },
      "execution_count": 154,
      "outputs": [
        {
          "output_type": "stream",
          "name": "stdout",
          "text": [
            "Model: \"sequential_10\"\n",
            "_________________________________________________________________\n",
            " Layer (type)                Output Shape              Param #   \n",
            "=================================================================\n",
            " flatten_10 (Flatten)        (None, 49152)             0         \n",
            "                                                                 \n",
            " dense_70 (Dense)            (None, 512)               25166336  \n",
            "                                                                 \n",
            " dense_71 (Dense)            (None, 512)               262656    \n",
            "                                                                 \n",
            " dropout_6 (Dropout)         (None, 512)               0         \n",
            "                                                                 \n",
            " dense_72 (Dense)            (None, 128)               65664     \n",
            "                                                                 \n",
            " dense_73 (Dense)            (None, 128)               16512     \n",
            "                                                                 \n",
            " dropout_7 (Dropout)         (None, 128)               0         \n",
            "                                                                 \n",
            " dense_74 (Dense)            (None, 32)                4128      \n",
            "                                                                 \n",
            " dense_75 (Dense)            (None, 3)                 99        \n",
            "                                                                 \n",
            "=================================================================\n",
            "Total params: 25,515,395\n",
            "Trainable params: 25,515,395\n",
            "Non-trainable params: 0\n",
            "_________________________________________________________________\n"
          ]
        }
      ]
    },
    {
      "cell_type": "code",
      "source": [
        "# train the model using the Adam optimizer\n",
        "print(\"[INFO] training network...\")\n",
        "opt = adam_v2.Adam(learning_rate=1e-3, decay=1e-3)\n",
        "model.compile(loss=\"categorical_crossentropy\", optimizer=opt,\n",
        "\tmetrics=[\"accuracy\"])\n",
        "H = model.fit(trainX, trainY, validation_data=(testX, testY), epochs=100, batch_size=32)"
      ],
      "metadata": {
        "colab": {
          "base_uri": "https://localhost:8080/"
        },
        "id": "i4J7ytM2bUA3",
        "outputId": "9d54240f-a016-47a6-da88-acb481394d27"
      },
      "execution_count": 155,
      "outputs": [
        {
          "output_type": "stream",
          "name": "stdout",
          "text": [
            "[INFO] training network...\n",
            "Epoch 1/100\n",
            "4/4 [==============================] - 2s 231ms/step - loss: 5.7998 - accuracy: 0.4107 - val_loss: 1.4999 - val_accuracy: 0.4474\n",
            "Epoch 2/100\n",
            "4/4 [==============================] - 1s 177ms/step - loss: 7.9034 - accuracy: 0.3482 - val_loss: 6.3764 - val_accuracy: 0.2632\n",
            "Epoch 3/100\n",
            "4/4 [==============================] - 1s 175ms/step - loss: 7.4099 - accuracy: 0.2857 - val_loss: 1.4475 - val_accuracy: 0.1842\n",
            "Epoch 4/100\n",
            "4/4 [==============================] - 1s 172ms/step - loss: 5.5590 - accuracy: 0.4018 - val_loss: 2.7578 - val_accuracy: 0.2895\n",
            "Epoch 5/100\n",
            "4/4 [==============================] - 1s 173ms/step - loss: 5.1103 - accuracy: 0.3661 - val_loss: 1.7147 - val_accuracy: 0.2895\n",
            "Epoch 6/100\n",
            "4/4 [==============================] - 1s 172ms/step - loss: 4.0868 - accuracy: 0.2589 - val_loss: 1.4527 - val_accuracy: 0.2632\n",
            "Epoch 7/100\n",
            "4/4 [==============================] - 1s 170ms/step - loss: 4.0696 - accuracy: 0.2946 - val_loss: 1.3090 - val_accuracy: 0.2895\n",
            "Epoch 8/100\n",
            "4/4 [==============================] - 1s 172ms/step - loss: 3.6372 - accuracy: 0.3571 - val_loss: 1.1466 - val_accuracy: 0.2895\n",
            "Epoch 9/100\n",
            "4/4 [==============================] - 1s 176ms/step - loss: 2.1384 - accuracy: 0.3393 - val_loss: 1.0999 - val_accuracy: 0.3421\n",
            "Epoch 10/100\n",
            "4/4 [==============================] - 1s 181ms/step - loss: 1.8656 - accuracy: 0.3125 - val_loss: 1.1326 - val_accuracy: 0.2632\n",
            "Epoch 11/100\n",
            "4/4 [==============================] - 1s 177ms/step - loss: 2.0119 - accuracy: 0.2857 - val_loss: 1.1040 - val_accuracy: 0.3421\n",
            "Epoch 12/100\n",
            "4/4 [==============================] - 1s 183ms/step - loss: 1.5761 - accuracy: 0.3929 - val_loss: 1.0161 - val_accuracy: 0.5789\n",
            "Epoch 13/100\n",
            "4/4 [==============================] - 1s 171ms/step - loss: 1.6637 - accuracy: 0.3036 - val_loss: 1.0410 - val_accuracy: 0.5526\n",
            "Epoch 14/100\n",
            "4/4 [==============================] - 1s 171ms/step - loss: 1.3984 - accuracy: 0.3214 - val_loss: 1.0821 - val_accuracy: 0.5526\n",
            "Epoch 15/100\n",
            "4/4 [==============================] - 1s 174ms/step - loss: 1.2330 - accuracy: 0.4107 - val_loss: 1.0839 - val_accuracy: 0.2895\n",
            "Epoch 16/100\n",
            "4/4 [==============================] - 1s 170ms/step - loss: 1.2241 - accuracy: 0.4196 - val_loss: 1.0568 - val_accuracy: 0.3421\n",
            "Epoch 17/100\n",
            "4/4 [==============================] - 1s 174ms/step - loss: 1.0603 - accuracy: 0.4643 - val_loss: 1.0357 - val_accuracy: 0.3947\n",
            "Epoch 18/100\n",
            "4/4 [==============================] - 1s 175ms/step - loss: 1.2459 - accuracy: 0.3929 - val_loss: 1.0514 - val_accuracy: 0.3421\n",
            "Epoch 19/100\n",
            "4/4 [==============================] - 1s 173ms/step - loss: 1.3552 - accuracy: 0.3304 - val_loss: 1.1627 - val_accuracy: 0.3158\n",
            "Epoch 20/100\n",
            "4/4 [==============================] - 1s 169ms/step - loss: 1.2171 - accuracy: 0.4464 - val_loss: 1.0604 - val_accuracy: 0.3684\n",
            "Epoch 21/100\n",
            "4/4 [==============================] - 1s 176ms/step - loss: 1.1221 - accuracy: 0.4375 - val_loss: 1.0730 - val_accuracy: 0.3684\n",
            "Epoch 22/100\n",
            "4/4 [==============================] - 1s 167ms/step - loss: 1.0978 - accuracy: 0.4018 - val_loss: 1.0277 - val_accuracy: 0.3947\n",
            "Epoch 23/100\n",
            "4/4 [==============================] - 1s 171ms/step - loss: 1.1792 - accuracy: 0.4554 - val_loss: 1.0271 - val_accuracy: 0.3947\n",
            "Epoch 24/100\n",
            "4/4 [==============================] - 1s 175ms/step - loss: 1.1244 - accuracy: 0.4643 - val_loss: 1.0476 - val_accuracy: 0.3421\n",
            "Epoch 25/100\n",
            "4/4 [==============================] - 1s 170ms/step - loss: 1.1644 - accuracy: 0.4464 - val_loss: 1.0248 - val_accuracy: 0.4211\n",
            "Epoch 26/100\n",
            "4/4 [==============================] - 1s 178ms/step - loss: 1.1065 - accuracy: 0.3929 - val_loss: 0.9504 - val_accuracy: 0.4474\n",
            "Epoch 27/100\n",
            "4/4 [==============================] - 1s 176ms/step - loss: 1.0164 - accuracy: 0.4464 - val_loss: 0.9522 - val_accuracy: 0.5000\n",
            "Epoch 28/100\n",
            "4/4 [==============================] - 1s 168ms/step - loss: 0.9990 - accuracy: 0.4821 - val_loss: 0.9451 - val_accuracy: 0.3947\n",
            "Epoch 29/100\n",
            "4/4 [==============================] - 1s 180ms/step - loss: 0.9731 - accuracy: 0.5089 - val_loss: 0.9252 - val_accuracy: 0.4474\n",
            "Epoch 30/100\n",
            "4/4 [==============================] - 1s 174ms/step - loss: 0.9860 - accuracy: 0.5000 - val_loss: 0.9125 - val_accuracy: 0.5000\n",
            "Epoch 31/100\n",
            "4/4 [==============================] - 1s 171ms/step - loss: 0.9550 - accuracy: 0.4554 - val_loss: 0.9082 - val_accuracy: 0.4737\n",
            "Epoch 32/100\n",
            "4/4 [==============================] - 1s 175ms/step - loss: 0.9784 - accuracy: 0.5000 - val_loss: 0.8852 - val_accuracy: 0.5526\n",
            "Epoch 33/100\n",
            "4/4 [==============================] - 1s 177ms/step - loss: 0.8869 - accuracy: 0.5714 - val_loss: 0.9093 - val_accuracy: 0.4737\n",
            "Epoch 34/100\n",
            "4/4 [==============================] - 1s 173ms/step - loss: 0.9859 - accuracy: 0.4911 - val_loss: 0.9554 - val_accuracy: 0.3684\n",
            "Epoch 35/100\n",
            "4/4 [==============================] - 1s 175ms/step - loss: 0.9496 - accuracy: 0.5357 - val_loss: 0.9325 - val_accuracy: 0.5263\n",
            "Epoch 36/100\n",
            "4/4 [==============================] - 1s 177ms/step - loss: 0.8889 - accuracy: 0.5893 - val_loss: 0.8601 - val_accuracy: 0.7105\n",
            "Epoch 37/100\n",
            "4/4 [==============================] - 1s 169ms/step - loss: 0.8676 - accuracy: 0.5714 - val_loss: 0.8298 - val_accuracy: 0.6053\n",
            "Epoch 38/100\n",
            "4/4 [==============================] - 1s 174ms/step - loss: 0.9000 - accuracy: 0.5179 - val_loss: 0.8447 - val_accuracy: 0.5263\n",
            "Epoch 39/100\n",
            "4/4 [==============================] - 1s 171ms/step - loss: 0.8505 - accuracy: 0.5446 - val_loss: 0.7763 - val_accuracy: 0.6842\n",
            "Epoch 40/100\n",
            "4/4 [==============================] - 1s 170ms/step - loss: 0.8430 - accuracy: 0.5982 - val_loss: 0.9175 - val_accuracy: 0.5526\n",
            "Epoch 41/100\n",
            "4/4 [==============================] - 1s 177ms/step - loss: 0.9162 - accuracy: 0.5357 - val_loss: 0.8100 - val_accuracy: 0.5789\n",
            "Epoch 42/100\n",
            "4/4 [==============================] - 1s 171ms/step - loss: 0.8268 - accuracy: 0.5982 - val_loss: 0.8207 - val_accuracy: 0.5263\n",
            "Epoch 43/100\n",
            "4/4 [==============================] - 1s 172ms/step - loss: 0.7768 - accuracy: 0.6429 - val_loss: 0.8258 - val_accuracy: 0.5526\n",
            "Epoch 44/100\n",
            "4/4 [==============================] - 1s 173ms/step - loss: 0.8046 - accuracy: 0.6161 - val_loss: 0.7034 - val_accuracy: 0.7105\n",
            "Epoch 45/100\n",
            "4/4 [==============================] - 1s 172ms/step - loss: 0.7667 - accuracy: 0.5804 - val_loss: 0.7045 - val_accuracy: 0.6842\n",
            "Epoch 46/100\n",
            "4/4 [==============================] - 1s 175ms/step - loss: 0.6593 - accuracy: 0.6786 - val_loss: 0.6822 - val_accuracy: 0.6579\n",
            "Epoch 47/100\n",
            "4/4 [==============================] - 1s 172ms/step - loss: 0.6573 - accuracy: 0.6964 - val_loss: 0.7526 - val_accuracy: 0.6316\n",
            "Epoch 48/100\n",
            "4/4 [==============================] - 1s 170ms/step - loss: 0.6420 - accuracy: 0.7143 - val_loss: 0.7942 - val_accuracy: 0.5789\n",
            "Epoch 49/100\n",
            "4/4 [==============================] - 1s 169ms/step - loss: 0.8176 - accuracy: 0.5982 - val_loss: 0.7971 - val_accuracy: 0.5526\n",
            "Epoch 50/100\n",
            "4/4 [==============================] - 1s 169ms/step - loss: 0.7925 - accuracy: 0.6161 - val_loss: 1.0053 - val_accuracy: 0.3421\n",
            "Epoch 51/100\n",
            "4/4 [==============================] - 1s 169ms/step - loss: 0.9231 - accuracy: 0.5893 - val_loss: 0.8507 - val_accuracy: 0.4211\n",
            "Epoch 52/100\n",
            "4/4 [==============================] - 1s 168ms/step - loss: 0.7014 - accuracy: 0.7054 - val_loss: 0.7746 - val_accuracy: 0.5263\n",
            "Epoch 53/100\n",
            "4/4 [==============================] - 1s 169ms/step - loss: 0.6845 - accuracy: 0.6875 - val_loss: 0.7278 - val_accuracy: 0.6842\n",
            "Epoch 54/100\n",
            "4/4 [==============================] - 1s 168ms/step - loss: 0.6272 - accuracy: 0.7411 - val_loss: 0.7087 - val_accuracy: 0.6842\n",
            "Epoch 55/100\n",
            "4/4 [==============================] - 1s 173ms/step - loss: 0.7015 - accuracy: 0.6786 - val_loss: 1.0640 - val_accuracy: 0.5526\n",
            "Epoch 56/100\n",
            "4/4 [==============================] - 1s 183ms/step - loss: 0.8882 - accuracy: 0.6161 - val_loss: 0.8496 - val_accuracy: 0.4737\n",
            "Epoch 57/100\n",
            "4/4 [==============================] - 1s 175ms/step - loss: 0.9064 - accuracy: 0.5714 - val_loss: 0.8099 - val_accuracy: 0.5789\n",
            "Epoch 58/100\n",
            "4/4 [==============================] - 1s 171ms/step - loss: 0.6560 - accuracy: 0.6607 - val_loss: 0.6201 - val_accuracy: 0.6842\n",
            "Epoch 59/100\n",
            "4/4 [==============================] - 1s 173ms/step - loss: 0.5518 - accuracy: 0.7411 - val_loss: 0.6832 - val_accuracy: 0.6053\n",
            "Epoch 60/100\n",
            "4/4 [==============================] - 1s 174ms/step - loss: 0.4947 - accuracy: 0.7946 - val_loss: 0.7714 - val_accuracy: 0.6316\n",
            "Epoch 61/100\n",
            "4/4 [==============================] - 1s 172ms/step - loss: 0.5749 - accuracy: 0.7321 - val_loss: 0.6882 - val_accuracy: 0.6842\n",
            "Epoch 62/100\n",
            "4/4 [==============================] - 1s 170ms/step - loss: 0.5062 - accuracy: 0.7411 - val_loss: 0.6146 - val_accuracy: 0.7105\n",
            "Epoch 63/100\n",
            "4/4 [==============================] - 1s 171ms/step - loss: 0.4786 - accuracy: 0.7857 - val_loss: 0.5323 - val_accuracy: 0.7368\n",
            "Epoch 64/100\n",
            "4/4 [==============================] - 1s 176ms/step - loss: 0.5646 - accuracy: 0.7500 - val_loss: 0.6446 - val_accuracy: 0.6842\n",
            "Epoch 65/100\n",
            "4/4 [==============================] - 1s 179ms/step - loss: 0.5178 - accuracy: 0.7411 - val_loss: 0.7213 - val_accuracy: 0.6053\n",
            "Epoch 66/100\n",
            "4/4 [==============================] - 1s 169ms/step - loss: 0.4813 - accuracy: 0.7946 - val_loss: 0.7079 - val_accuracy: 0.6053\n",
            "Epoch 67/100\n",
            "4/4 [==============================] - 1s 170ms/step - loss: 0.4334 - accuracy: 0.8125 - val_loss: 0.6489 - val_accuracy: 0.7105\n",
            "Epoch 68/100\n",
            "4/4 [==============================] - 1s 171ms/step - loss: 0.4250 - accuracy: 0.8214 - val_loss: 0.5514 - val_accuracy: 0.7368\n",
            "Epoch 69/100\n",
            "4/4 [==============================] - 1s 173ms/step - loss: 0.3484 - accuracy: 0.8393 - val_loss: 0.5258 - val_accuracy: 0.7368\n",
            "Epoch 70/100\n",
            "4/4 [==============================] - 1s 177ms/step - loss: 0.3494 - accuracy: 0.8750 - val_loss: 0.5901 - val_accuracy: 0.7105\n",
            "Epoch 71/100\n",
            "4/4 [==============================] - 1s 170ms/step - loss: 0.3013 - accuracy: 0.8929 - val_loss: 0.5466 - val_accuracy: 0.7368\n",
            "Epoch 72/100\n",
            "4/4 [==============================] - 1s 179ms/step - loss: 0.2921 - accuracy: 0.8661 - val_loss: 0.5361 - val_accuracy: 0.6842\n",
            "Epoch 73/100\n",
            "4/4 [==============================] - 1s 172ms/step - loss: 0.3354 - accuracy: 0.8750 - val_loss: 0.8463 - val_accuracy: 0.6579\n",
            "Epoch 74/100\n",
            "4/4 [==============================] - 1s 167ms/step - loss: 0.3925 - accuracy: 0.8571 - val_loss: 0.8195 - val_accuracy: 0.6842\n",
            "Epoch 75/100\n",
            "4/4 [==============================] - 1s 169ms/step - loss: 0.3400 - accuracy: 0.8482 - val_loss: 0.6742 - val_accuracy: 0.7105\n",
            "Epoch 76/100\n",
            "4/4 [==============================] - 1s 171ms/step - loss: 0.2860 - accuracy: 0.8482 - val_loss: 0.5434 - val_accuracy: 0.7895\n",
            "Epoch 77/100\n",
            "4/4 [==============================] - 1s 167ms/step - loss: 0.2338 - accuracy: 0.8929 - val_loss: 0.7103 - val_accuracy: 0.7368\n",
            "Epoch 78/100\n",
            "4/4 [==============================] - 1s 177ms/step - loss: 0.2704 - accuracy: 0.8929 - val_loss: 0.5147 - val_accuracy: 0.7895\n",
            "Epoch 79/100\n",
            "4/4 [==============================] - 1s 175ms/step - loss: 0.2688 - accuracy: 0.8750 - val_loss: 1.1400 - val_accuracy: 0.5789\n",
            "Epoch 80/100\n",
            "4/4 [==============================] - 1s 171ms/step - loss: 0.3556 - accuracy: 0.8482 - val_loss: 0.6433 - val_accuracy: 0.7368\n",
            "Epoch 81/100\n",
            "4/4 [==============================] - 1s 171ms/step - loss: 0.2853 - accuracy: 0.8571 - val_loss: 0.7156 - val_accuracy: 0.7368\n",
            "Epoch 82/100\n",
            "4/4 [==============================] - 1s 176ms/step - loss: 0.2840 - accuracy: 0.8839 - val_loss: 1.1741 - val_accuracy: 0.6053\n",
            "Epoch 83/100\n",
            "4/4 [==============================] - 1s 169ms/step - loss: 0.3054 - accuracy: 0.9107 - val_loss: 0.6790 - val_accuracy: 0.7105\n",
            "Epoch 84/100\n",
            "4/4 [==============================] - 1s 178ms/step - loss: 0.3222 - accuracy: 0.8304 - val_loss: 0.5454 - val_accuracy: 0.7895\n",
            "Epoch 85/100\n",
            "4/4 [==============================] - 1s 173ms/step - loss: 0.1733 - accuracy: 0.9196 - val_loss: 0.6741 - val_accuracy: 0.7632\n",
            "Epoch 86/100\n",
            "4/4 [==============================] - 1s 171ms/step - loss: 0.1546 - accuracy: 0.9375 - val_loss: 0.9572 - val_accuracy: 0.7105\n",
            "Epoch 87/100\n",
            "4/4 [==============================] - 1s 190ms/step - loss: 0.2181 - accuracy: 0.9375 - val_loss: 0.7455 - val_accuracy: 0.7105\n",
            "Epoch 88/100\n",
            "4/4 [==============================] - 1s 178ms/step - loss: 0.1456 - accuracy: 0.9732 - val_loss: 1.0680 - val_accuracy: 0.6316\n",
            "Epoch 89/100\n",
            "4/4 [==============================] - 1s 175ms/step - loss: 0.2397 - accuracy: 0.9107 - val_loss: 1.0502 - val_accuracy: 0.6316\n",
            "Epoch 90/100\n",
            "4/4 [==============================] - 1s 174ms/step - loss: 0.1983 - accuracy: 0.9196 - val_loss: 0.6843 - val_accuracy: 0.7105\n",
            "Epoch 91/100\n",
            "4/4 [==============================] - 1s 175ms/step - loss: 0.3488 - accuracy: 0.8125 - val_loss: 0.5350 - val_accuracy: 0.8158\n",
            "Epoch 92/100\n",
            "4/4 [==============================] - 1s 173ms/step - loss: 0.2282 - accuracy: 0.9286 - val_loss: 0.8634 - val_accuracy: 0.6842\n",
            "Epoch 93/100\n",
            "4/4 [==============================] - 1s 178ms/step - loss: 0.1748 - accuracy: 0.9375 - val_loss: 0.6172 - val_accuracy: 0.7632\n",
            "Epoch 94/100\n",
            "4/4 [==============================] - 1s 173ms/step - loss: 0.1304 - accuracy: 0.9554 - val_loss: 0.9604 - val_accuracy: 0.6842\n",
            "Epoch 95/100\n",
            "4/4 [==============================] - 1s 176ms/step - loss: 0.0913 - accuracy: 0.9821 - val_loss: 0.8829 - val_accuracy: 0.7368\n",
            "Epoch 96/100\n",
            "4/4 [==============================] - 1s 174ms/step - loss: 0.1608 - accuracy: 0.9464 - val_loss: 1.0478 - val_accuracy: 0.6579\n",
            "Epoch 97/100\n",
            "4/4 [==============================] - 1s 170ms/step - loss: 0.1094 - accuracy: 0.9554 - val_loss: 0.5917 - val_accuracy: 0.8421\n",
            "Epoch 98/100\n",
            "4/4 [==============================] - 1s 171ms/step - loss: 0.0990 - accuracy: 0.9554 - val_loss: 0.6143 - val_accuracy: 0.7368\n",
            "Epoch 99/100\n",
            "4/4 [==============================] - 1s 176ms/step - loss: 0.0538 - accuracy: 0.9911 - val_loss: 0.8198 - val_accuracy: 0.7105\n",
            "Epoch 100/100\n",
            "4/4 [==============================] - 1s 171ms/step - loss: 0.0585 - accuracy: 0.9732 - val_loss: 0.8082 - val_accuracy: 0.7895\n"
          ]
        }
      ]
    },
    {
      "cell_type": "code",
      "source": [
        "import matplotlib.pyplot as plt\n",
        "\n",
        "print(H.history.keys())\n",
        "# summarize history for accuracy\n",
        "plt.plot(H.history['accuracy'])\n",
        "plt.plot(H.history['val_accuracy'])\n",
        "plt.title('model accuracy')\n",
        "plt.ylabel('accuracy')\n",
        "plt.xlabel('epoch')\n",
        "plt.legend(['train', 'test'], loc='upper left')\n",
        "plt.show()\n",
        "# summarize history for loss\n",
        "plt.plot(H.history['loss'])\n",
        "plt.plot(H.history['val_loss'])\n",
        "plt.title('model loss')\n",
        "plt.ylabel('loss')\n",
        "plt.xlabel('epoch')\n",
        "plt.legend(['train', 'test'], loc='upper left')\n",
        "plt.show()"
      ],
      "metadata": {
        "colab": {
          "base_uri": "https://localhost:8080/",
          "height": 591
        },
        "id": "qqkZN8VQfX9C",
        "outputId": "ad4d88d3-69c0-4234-a739-d36575522ed5"
      },
      "execution_count": 156,
      "outputs": [
        {
          "output_type": "stream",
          "name": "stdout",
          "text": [
            "dict_keys(['loss', 'accuracy', 'val_loss', 'val_accuracy'])\n"
          ]
        },
        {
          "output_type": "display_data",
          "data": {
            "image/png": "[encoded data removed]",
            "text/plain": [
              "<Figure size 432x288 with 1 Axes>"
            ]
          },
          "metadata": {
            "needs_background": "light"
          }
        },
        {
          "output_type": "display_data",
          "data": {
            "image/png": "[encoded data removed]",
            "text/plain": [
              "<Figure size 432x288 with 1 Axes>"
            ]
          },
          "metadata": {
            "needs_background": "light"
          }
        }
      ]
    },
    {
      "cell_type": "code",
      "source": [
        "# evaluate the network\n",
        "print(\"[INFO] evaluating network...\")\n",
        "predictions = model.predict(testX, batch_size=32)\n",
        "print(classification_report(testY.argmax(axis=1),\n",
        "\tpredictions.argmax(axis=1), target_names=lb.classes_))"
      ],
      "metadata": {
        "colab": {
          "base_uri": "https://localhost:8080/"
        },
        "id": "Pt4ZYyMLfuIw",
        "outputId": "296fbe97-8c37-4659-eab8-c74595c2036e"
      },
      "execution_count": 157,
      "outputs": [
        {
          "output_type": "stream",
          "name": "stdout",
          "text": [
            "[INFO] evaluating network...\n",
            "              precision    recall  f1-score   support\n",
            "\n",
            "      aphids       0.93      0.82      0.87        17\n",
            "    armyworm       0.59      0.91      0.71        11\n",
            "       mites       1.00      0.60      0.75        10\n",
            "\n",
            "    accuracy                           0.79        38\n",
            "   macro avg       0.84      0.78      0.78        38\n",
            "weighted avg       0.85      0.79      0.80        38\n",
            "\n"
          ]
        }
      ]
    },
    {
      "cell_type": "code",
      "source": [
        "import cv2\n",
        "import matplotlib.pyplot as plt\n",
        "\n",
        "gambar = 'test_gambar_mites.jpg'\n",
        "image = cv2.imread(gambar)\n",
        "plt.imshow(image)\n",
        "plt.show()"
      ],
      "metadata": {
        "colab": {
          "base_uri": "https://localhost:8080/",
          "height": 269
        },
        "id": "QatrefYif1yL",
        "outputId": "10007701-2554-4061-aefb-e72b92e64711"
      },
      "execution_count": 164,
      "outputs": [
        {
          "output_type": "display_data",
          "data": {
            "image/png": "[encoded data removed]",
            "text/plain": [
              "<Figure size 432x288 with 1 Axes>"
            ]
          },
          "metadata": {
            "needs_background": "light"
          }
        }
      ]
    },
    {
      "cell_type": "code",
      "source": [
        "image_test=Image.open(gambar)\n",
        "image_test=np.array(image_test.resize((128,128))) / 255.0\n",
        "image_test.shape"
      ],
      "metadata": {
        "colab": {
          "base_uri": "https://localhost:8080/"
        },
        "id": "aRu0H19lgHE6",
        "outputId": "1b6ca087-c211-47e3-fb11-b942d33903b8"
      },
      "execution_count": 165,
      "outputs": [
        {
          "output_type": "execute_result",
          "data": {
            "text/plain": [
              "(128, 128, 3)"
            ]
          },
          "metadata": {},
          "execution_count": 165
        }
      ]
    },
    {
      "cell_type": "code",
      "source": [
        "image_test=np.expand_dims(image_test, axis=0)\n",
        "image_test.shape"
      ],
      "metadata": {
        "colab": {
          "base_uri": "https://localhost:8080/"
        },
        "id": "yblf3_3wgJ_V",
        "outputId": "a4031c77-3025-475a-d7d3-858748aeb38b"
      },
      "execution_count": 166,
      "outputs": [
        {
          "output_type": "execute_result",
          "data": {
            "text/plain": [
              "(1, 128, 128, 3)"
            ]
          },
          "metadata": {},
          "execution_count": 166
        }
      ]
    },
    {
      "cell_type": "code",
      "source": [
        "predict = model.predict(image_test)"
      ],
      "metadata": {
        "id": "iTmHDA8TgN2U"
      },
      "execution_count": 167,
      "outputs": []
    },
    {
      "cell_type": "code",
      "source": [
        "print(predict)"
      ],
      "metadata": {
        "colab": {
          "base_uri": "https://localhost:8080/"
        },
        "id": "gsy9kSz2gRX1",
        "outputId": "e52bd57f-7656-4db0-8f19-9d51cd4c3ebe"
      },
      "execution_count": 168,
      "outputs": [
        {
          "output_type": "stream",
          "name": "stdout",
          "text": [
            "[[5.1518332e-04 4.0234692e-04 9.9908245e-01]]\n"
          ]
        }
      ]
    },
    {
      "cell_type": "code",
      "source": [
        "print(lb.classes_[predict.argmax(axis=1)])"
      ],
      "metadata": {
        "colab": {
          "base_uri": "https://localhost:8080/"
        },
        "id": "KH4bu1KhgSx4",
        "outputId": "4d7ccb23-0e06-40fc-dd4b-395aac640fc8"
      },
      "execution_count": 169,
      "outputs": [
        {
          "output_type": "stream",
          "name": "stdout",
          "text": [
            "['mites']\n"
          ]
        }
      ]
    }
  ]
}